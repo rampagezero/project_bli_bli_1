{
 "cells": [
  {
   "cell_type": "code",
   "execution_count": 2,
   "metadata": {},
   "outputs": [],
   "source": [
    "import pandas as pd\n",
    "df=pd.read_excel(r\"D:\\Python Scripts\\Daily_OSA_ID_08.Agustus'23.xlsx\",sheet_name='OSA',header=2)\n",
    "for i in range(38,43):\n",
    "    if i==38:\n",
    "        x=df[(df.iloc[:,i]==0) & ((df['Status']=='Active') | (df['Status']=='Active (New Listing)'))].iloc[:,1:11]\n",
    "        x['tanggal']=df.columns[i]\n",
    "    else:\n",
    "        y=df[(df.iloc[:,i]==0) & ((df['Status']=='Active') | (df['Status']=='Active (New Listing)'))].iloc[:,1:11]\n",
    "        y['tanggal']=df.columns[i]\n",
    "        x=pd.concat([x,y])\n",
    "x.to_excel('RCA Analysis OOS - 25 Agustus 2023.xlsx')\n",
    "\n"
   ]
  }
 ],
 "metadata": {
  "kernelspec": {
   "display_name": "base",
   "language": "python",
   "name": "python3"
  },
  "language_info": {
   "codemirror_mode": {
    "name": "ipython",
    "version": 3
   },
   "file_extension": ".py",
   "mimetype": "text/x-python",
   "name": "python",
   "nbconvert_exporter": "python",
   "pygments_lexer": "ipython3",
   "version": "3.10.9"
  },
  "orig_nbformat": 4
 },
 "nbformat": 4,
 "nbformat_minor": 2
}
